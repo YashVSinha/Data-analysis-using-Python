{
 "cells": [
  {
   "cell_type": "code",
   "execution_count": 1,
   "id": "dfa3b471",
   "metadata": {},
   "outputs": [
    {
     "name": "stdout",
     "output_type": "stream",
     "text": [
      "Collecting klib\n",
      "  Downloading klib-1.0.7-py3-none-any.whl (20 kB)\n",
      "Requirement already satisfied: scipy<2.0.0,>=1.1.0 in c:\\new folder\\lib\\site-packages (from klib) (1.6.3)\n",
      "Requirement already satisfied: matplotlib<4.0.0,>=3.0.3 in c:\\new folder\\lib\\site-packages (from klib) (3.4.2)\n",
      "Requirement already satisfied: numpy<2.0.0,>=1.16.3 in c:\\new folder\\lib\\site-packages (from klib) (1.20.2)\n",
      "Requirement already satisfied: pandas<2.0.0,>=1.2.0 in c:\\new folder\\lib\\site-packages (from klib) (1.2.4)\n",
      "Collecting seaborn<0.13.0,>=0.11.2\n",
      "  Downloading seaborn-0.12.2-py3-none-any.whl (293 kB)\n",
      "     -------------------------------------- 293.3/293.3 kB 1.6 MB/s eta 0:00:00\n",
      "Collecting Jinja2<4.0.0,>=3.0.3\n",
      "  Downloading Jinja2-3.1.2-py3-none-any.whl (133 kB)\n",
      "     -------------------------------------- 133.1/133.1 kB 2.0 MB/s eta 0:00:00\n",
      "Collecting MarkupSafe>=2.0\n",
      "  Downloading MarkupSafe-2.1.2-cp38-cp38-win32.whl (16 kB)\n",
      "Requirement already satisfied: cycler>=0.10 in c:\\new folder\\lib\\site-packages (from matplotlib<4.0.0,>=3.0.3->klib) (0.10.0)\n",
      "Requirement already satisfied: pyparsing>=2.2.1 in c:\\new folder\\lib\\site-packages (from matplotlib<4.0.0,>=3.0.3->klib) (2.4.7)\n",
      "Requirement already satisfied: python-dateutil>=2.7 in c:\\new folder\\lib\\site-packages (from matplotlib<4.0.0,>=3.0.3->klib) (2.8.1)\n",
      "Requirement already satisfied: pillow>=6.2.0 in c:\\new folder\\lib\\site-packages (from matplotlib<4.0.0,>=3.0.3->klib) (8.2.0)\n",
      "Requirement already satisfied: kiwisolver>=1.0.1 in c:\\new folder\\lib\\site-packages (from matplotlib<4.0.0,>=3.0.3->klib) (1.3.1)\n",
      "Requirement already satisfied: pytz>=2017.3 in c:\\new folder\\lib\\site-packages (from pandas<2.0.0,>=1.2.0->klib) (2021.1)\n",
      "Requirement already satisfied: six in c:\\new folder\\lib\\site-packages (from cycler>=0.10->matplotlib<4.0.0,>=3.0.3->klib) (1.15.0)\n",
      "Installing collected packages: MarkupSafe, Jinja2, seaborn, klib\n",
      "  Attempting uninstall: MarkupSafe\n",
      "    Found existing installation: MarkupSafe 1.1.1\n",
      "    Uninstalling MarkupSafe-1.1.1:\n",
      "      Successfully uninstalled MarkupSafe-1.1.1\n"
     ]
    },
    {
     "name": "stderr",
     "output_type": "stream",
     "text": [
      "ERROR: Could not install packages due to an OSError: [WinError 5] Access is denied: 'C:\\\\New folder\\\\Lib\\\\site-packages\\\\~arkupsafe\\\\_speedups.cp38-win32.pyd'\n",
      "Consider using the `--user` option or check the permissions.\n",
      "\n",
      "\n",
      "[notice] A new release of pip available: 22.3.1 -> 23.1.2\n",
      "[notice] To update, run: python.exe -m pip install --upgrade pip\n"
     ]
    }
   ],
   "source": [
    "!pip install klib\n"
   ]
  },
  {
   "cell_type": "code",
   "execution_count": 3,
   "id": "9f31a32e",
   "metadata": {},
   "outputs": [],
   "source": [
    "import pandas as pd\n",
    "import numpy as np\n",
    "import matplotlib.pyplot as plt\n",
    "import seaborn as sns\n",
    "%matplotlib inline"
   ]
  },
  {
   "cell_type": "code",
   "execution_count": 5,
   "id": "a8d61b7f",
   "metadata": {},
   "outputs": [],
   "source": [
    "df=pd.read_csv('IMDB-Movie-Data.csv')"
   ]
  },
  {
   "cell_type": "code",
   "execution_count": 6,
   "id": "673e2d4d",
   "metadata": {},
   "outputs": [
    {
     "data": {
      "text/html": [
       "<div>\n",
       "<style scoped>\n",
       "    .dataframe tbody tr th:only-of-type {\n",
       "        vertical-align: middle;\n",
       "    }\n",
       "\n",
       "    .dataframe tbody tr th {\n",
       "        vertical-align: top;\n",
       "    }\n",
       "\n",
       "    .dataframe thead th {\n",
       "        text-align: right;\n",
       "    }\n",
       "</style>\n",
       "<table border=\"1\" class=\"dataframe\">\n",
       "  <thead>\n",
       "    <tr style=\"text-align: right;\">\n",
       "      <th></th>\n",
       "      <th>Rank</th>\n",
       "      <th>Title</th>\n",
       "      <th>Genre</th>\n",
       "      <th>Description</th>\n",
       "      <th>Director</th>\n",
       "      <th>Actors</th>\n",
       "      <th>Year</th>\n",
       "      <th>Runtime (Minutes)</th>\n",
       "      <th>Rating</th>\n",
       "      <th>Votes</th>\n",
       "      <th>Revenue (Millions)</th>\n",
       "      <th>Metascore</th>\n",
       "    </tr>\n",
       "  </thead>\n",
       "  <tbody>\n",
       "    <tr>\n",
       "      <th>0</th>\n",
       "      <td>1</td>\n",
       "      <td>Guardians of the Galaxy</td>\n",
       "      <td>Action,Adventure,Sci-Fi</td>\n",
       "      <td>A group of intergalactic criminals are forced ...</td>\n",
       "      <td>James Gunn</td>\n",
       "      <td>Chris Pratt, Vin Diesel, Bradley Cooper, Zoe S...</td>\n",
       "      <td>2014</td>\n",
       "      <td>121</td>\n",
       "      <td>8.1</td>\n",
       "      <td>757074</td>\n",
       "      <td>333.13</td>\n",
       "      <td>76.0</td>\n",
       "    </tr>\n",
       "    <tr>\n",
       "      <th>1</th>\n",
       "      <td>2</td>\n",
       "      <td>Prometheus</td>\n",
       "      <td>Adventure,Mystery,Sci-Fi</td>\n",
       "      <td>Following clues to the origin of mankind, a te...</td>\n",
       "      <td>Ridley Scott</td>\n",
       "      <td>Noomi Rapace, Logan Marshall-Green, Michael Fa...</td>\n",
       "      <td>2012</td>\n",
       "      <td>124</td>\n",
       "      <td>7.0</td>\n",
       "      <td>485820</td>\n",
       "      <td>126.46</td>\n",
       "      <td>65.0</td>\n",
       "    </tr>\n",
       "    <tr>\n",
       "      <th>2</th>\n",
       "      <td>3</td>\n",
       "      <td>Split</td>\n",
       "      <td>Horror,Thriller</td>\n",
       "      <td>Three girls are kidnapped by a man with a diag...</td>\n",
       "      <td>M. Night Shyamalan</td>\n",
       "      <td>James McAvoy, Anya Taylor-Joy, Haley Lu Richar...</td>\n",
       "      <td>2016</td>\n",
       "      <td>117</td>\n",
       "      <td>7.3</td>\n",
       "      <td>157606</td>\n",
       "      <td>138.12</td>\n",
       "      <td>62.0</td>\n",
       "    </tr>\n",
       "    <tr>\n",
       "      <th>3</th>\n",
       "      <td>4</td>\n",
       "      <td>Sing</td>\n",
       "      <td>Animation,Comedy,Family</td>\n",
       "      <td>In a city of humanoid animals, a hustling thea...</td>\n",
       "      <td>Christophe Lourdelet</td>\n",
       "      <td>Matthew McConaughey,Reese Witherspoon, Seth Ma...</td>\n",
       "      <td>2016</td>\n",
       "      <td>108</td>\n",
       "      <td>7.2</td>\n",
       "      <td>60545</td>\n",
       "      <td>270.32</td>\n",
       "      <td>59.0</td>\n",
       "    </tr>\n",
       "    <tr>\n",
       "      <th>4</th>\n",
       "      <td>5</td>\n",
       "      <td>Suicide Squad</td>\n",
       "      <td>Action,Adventure,Fantasy</td>\n",
       "      <td>A secret government agency recruits some of th...</td>\n",
       "      <td>David Ayer</td>\n",
       "      <td>Will Smith, Jared Leto, Margot Robbie, Viola D...</td>\n",
       "      <td>2016</td>\n",
       "      <td>123</td>\n",
       "      <td>6.2</td>\n",
       "      <td>393727</td>\n",
       "      <td>325.02</td>\n",
       "      <td>40.0</td>\n",
       "    </tr>\n",
       "  </tbody>\n",
       "</table>\n",
       "</div>"
      ],
      "text/plain": [
       "   Rank                    Title                     Genre  \\\n",
       "0     1  Guardians of the Galaxy   Action,Adventure,Sci-Fi   \n",
       "1     2               Prometheus  Adventure,Mystery,Sci-Fi   \n",
       "2     3                    Split           Horror,Thriller   \n",
       "3     4                     Sing   Animation,Comedy,Family   \n",
       "4     5            Suicide Squad  Action,Adventure,Fantasy   \n",
       "\n",
       "                                         Description              Director  \\\n",
       "0  A group of intergalactic criminals are forced ...            James Gunn   \n",
       "1  Following clues to the origin of mankind, a te...          Ridley Scott   \n",
       "2  Three girls are kidnapped by a man with a diag...    M. Night Shyamalan   \n",
       "3  In a city of humanoid animals, a hustling thea...  Christophe Lourdelet   \n",
       "4  A secret government agency recruits some of th...            David Ayer   \n",
       "\n",
       "                                              Actors  Year  Runtime (Minutes)  \\\n",
       "0  Chris Pratt, Vin Diesel, Bradley Cooper, Zoe S...  2014                121   \n",
       "1  Noomi Rapace, Logan Marshall-Green, Michael Fa...  2012                124   \n",
       "2  James McAvoy, Anya Taylor-Joy, Haley Lu Richar...  2016                117   \n",
       "3  Matthew McConaughey,Reese Witherspoon, Seth Ma...  2016                108   \n",
       "4  Will Smith, Jared Leto, Margot Robbie, Viola D...  2016                123   \n",
       "\n",
       "   Rating   Votes  Revenue (Millions)  Metascore  \n",
       "0     8.1  757074              333.13       76.0  \n",
       "1     7.0  485820              126.46       65.0  \n",
       "2     7.3  157606              138.12       62.0  \n",
       "3     7.2   60545              270.32       59.0  \n",
       "4     6.2  393727              325.02       40.0  "
      ]
     },
     "execution_count": 6,
     "metadata": {},
     "output_type": "execute_result"
    }
   ],
   "source": [
    "df.head()"
   ]
  },
  {
   "cell_type": "code",
   "execution_count": 7,
   "id": "8d525c3a",
   "metadata": {},
   "outputs": [
    {
     "data": {
      "text/plain": [
       "(1000, 12)"
      ]
     },
     "execution_count": 7,
     "metadata": {},
     "output_type": "execute_result"
    }
   ],
   "source": [
    "df.shape"
   ]
  },
  {
   "cell_type": "code",
   "execution_count": 8,
   "id": "ca679ed9",
   "metadata": {},
   "outputs": [
    {
     "ename": "AttributeError",
     "evalue": "'DataFrame' object has no attribute 'datatype'",
     "output_type": "error",
     "traceback": [
      "\u001b[1;31m---------------------------------------------------------------------------\u001b[0m",
      "\u001b[1;31mAttributeError\u001b[0m                            Traceback (most recent call last)",
      "\u001b[1;32m<ipython-input-8-855ba74211ab>\u001b[0m in \u001b[0;36m<module>\u001b[1;34m\u001b[0m\n\u001b[1;32m----> 1\u001b[1;33m \u001b[0mdf\u001b[0m\u001b[1;33m.\u001b[0m\u001b[0mdatatype\u001b[0m\u001b[1;33m\u001b[0m\u001b[1;33m\u001b[0m\u001b[0m\n\u001b[0m",
      "\u001b[1;32mc:\\new folder\\lib\\site-packages\\pandas\\core\\generic.py\u001b[0m in \u001b[0;36m__getattr__\u001b[1;34m(self, name)\u001b[0m\n\u001b[0;32m   5463\u001b[0m             \u001b[1;32mif\u001b[0m \u001b[0mself\u001b[0m\u001b[1;33m.\u001b[0m\u001b[0m_info_axis\u001b[0m\u001b[1;33m.\u001b[0m\u001b[0m_can_hold_identifiers_and_holds_name\u001b[0m\u001b[1;33m(\u001b[0m\u001b[0mname\u001b[0m\u001b[1;33m)\u001b[0m\u001b[1;33m:\u001b[0m\u001b[1;33m\u001b[0m\u001b[1;33m\u001b[0m\u001b[0m\n\u001b[0;32m   5464\u001b[0m                 \u001b[1;32mreturn\u001b[0m \u001b[0mself\u001b[0m\u001b[1;33m[\u001b[0m\u001b[0mname\u001b[0m\u001b[1;33m]\u001b[0m\u001b[1;33m\u001b[0m\u001b[1;33m\u001b[0m\u001b[0m\n\u001b[1;32m-> 5465\u001b[1;33m             \u001b[1;32mreturn\u001b[0m \u001b[0mobject\u001b[0m\u001b[1;33m.\u001b[0m\u001b[0m__getattribute__\u001b[0m\u001b[1;33m(\u001b[0m\u001b[0mself\u001b[0m\u001b[1;33m,\u001b[0m \u001b[0mname\u001b[0m\u001b[1;33m)\u001b[0m\u001b[1;33m\u001b[0m\u001b[1;33m\u001b[0m\u001b[0m\n\u001b[0m\u001b[0;32m   5466\u001b[0m \u001b[1;33m\u001b[0m\u001b[0m\n\u001b[0;32m   5467\u001b[0m     \u001b[1;32mdef\u001b[0m \u001b[0m__setattr__\u001b[0m\u001b[1;33m(\u001b[0m\u001b[0mself\u001b[0m\u001b[1;33m,\u001b[0m \u001b[0mname\u001b[0m\u001b[1;33m:\u001b[0m \u001b[0mstr\u001b[0m\u001b[1;33m,\u001b[0m \u001b[0mvalue\u001b[0m\u001b[1;33m)\u001b[0m \u001b[1;33m->\u001b[0m \u001b[1;32mNone\u001b[0m\u001b[1;33m:\u001b[0m\u001b[1;33m\u001b[0m\u001b[1;33m\u001b[0m\u001b[0m\n",
      "\u001b[1;31mAttributeError\u001b[0m: 'DataFrame' object has no attribute 'datatype'"
     ]
    }
   ],
   "source": [
    "df.datatype\n"
   ]
  },
  {
   "cell_type": "code",
   "execution_count": 9,
   "id": "966bd83c",
   "metadata": {},
   "outputs": [
    {
     "data": {
      "text/plain": [
       "Rank                    int64\n",
       "Title                  object\n",
       "Genre                  object\n",
       "Description            object\n",
       "Director               object\n",
       "Actors                 object\n",
       "Year                    int64\n",
       "Runtime (Minutes)       int64\n",
       "Rating                float64\n",
       "Votes                   int64\n",
       "Revenue (Millions)    float64\n",
       "Metascore             float64\n",
       "dtype: object"
      ]
     },
     "execution_count": 9,
     "metadata": {},
     "output_type": "execute_result"
    }
   ],
   "source": [
    "df.dtypes"
   ]
  },
  {
   "cell_type": "code",
   "execution_count": 11,
   "id": "afe1abad",
   "metadata": {},
   "outputs": [
    {
     "name": "stdout",
     "output_type": "stream",
     "text": [
      "<class 'pandas.core.frame.DataFrame'>\n",
      "RangeIndex: 1000 entries, 0 to 999\n",
      "Data columns (total 12 columns):\n",
      " #   Column              Non-Null Count  Dtype  \n",
      "---  ------              --------------  -----  \n",
      " 0   Rank                1000 non-null   int64  \n",
      " 1   Title               1000 non-null   object \n",
      " 2   Genre               1000 non-null   object \n",
      " 3   Description         1000 non-null   object \n",
      " 4   Director            1000 non-null   object \n",
      " 5   Actors              1000 non-null   object \n",
      " 6   Year                1000 non-null   int64  \n",
      " 7   Runtime (Minutes)   1000 non-null   int64  \n",
      " 8   Rating              1000 non-null   float64\n",
      " 9   Votes               1000 non-null   int64  \n",
      " 10  Revenue (Millions)  872 non-null    float64\n",
      " 11  Metascore           936 non-null    float64\n",
      "dtypes: float64(3), int64(4), object(5)\n",
      "memory usage: 74.3+ KB\n"
     ]
    }
   ],
   "source": [
    "df.info()"
   ]
  },
  {
   "cell_type": "code",
   "execution_count": 12,
   "id": "b1b85309",
   "metadata": {},
   "outputs": [
    {
     "data": {
      "text/plain": [
       "Rank                    0\n",
       "Title                   0\n",
       "Genre                   0\n",
       "Description             0\n",
       "Director                0\n",
       "Actors                  0\n",
       "Year                    0\n",
       "Runtime (Minutes)       0\n",
       "Rating                  0\n",
       "Votes                   0\n",
       "Revenue (Millions)    128\n",
       "Metascore              64\n",
       "dtype: int64"
      ]
     },
     "execution_count": 12,
     "metadata": {},
     "output_type": "execute_result"
    }
   ],
   "source": [
    "df.isnull().sum()"
   ]
  },
  {
   "cell_type": "code",
   "execution_count": 15,
   "id": "24448db6",
   "metadata": {},
   "outputs": [],
   "source": [
    "df.duplicated().sum()\n",
    "df.drop_duplicates(inplace=True)"
   ]
  },
  {
   "cell_type": "code",
   "execution_count": 17,
   "id": "01de7c67",
   "metadata": {},
   "outputs": [
    {
     "data": {
      "text/plain": [
       "0"
      ]
     },
     "execution_count": 17,
     "metadata": {},
     "output_type": "execute_result"
    }
   ],
   "source": [
    "df.duplicated().sum()"
   ]
  },
  {
   "cell_type": "code",
   "execution_count": 22,
   "id": "c835da35",
   "metadata": {},
   "outputs": [],
   "source": [
    "df.drop(['Description','Actors','Runtime (Minutes)','Votes','Revenue (Millions)','Metascore'] ,axis=1, inplace=True)"
   ]
  },
  {
   "cell_type": "code",
   "execution_count": 23,
   "id": "08ca9501",
   "metadata": {},
   "outputs": [
    {
     "data": {
      "text/html": [
       "<div>\n",
       "<style scoped>\n",
       "    .dataframe tbody tr th:only-of-type {\n",
       "        vertical-align: middle;\n",
       "    }\n",
       "\n",
       "    .dataframe tbody tr th {\n",
       "        vertical-align: top;\n",
       "    }\n",
       "\n",
       "    .dataframe thead th {\n",
       "        text-align: right;\n",
       "    }\n",
       "</style>\n",
       "<table border=\"1\" class=\"dataframe\">\n",
       "  <thead>\n",
       "    <tr style=\"text-align: right;\">\n",
       "      <th></th>\n",
       "      <th>Rank</th>\n",
       "      <th>Title</th>\n",
       "      <th>Genre</th>\n",
       "      <th>Director</th>\n",
       "      <th>Year</th>\n",
       "      <th>Rating</th>\n",
       "    </tr>\n",
       "  </thead>\n",
       "  <tbody>\n",
       "    <tr>\n",
       "      <th>0</th>\n",
       "      <td>1</td>\n",
       "      <td>Guardians of the Galaxy</td>\n",
       "      <td>Action,Adventure,Sci-Fi</td>\n",
       "      <td>James Gunn</td>\n",
       "      <td>2014</td>\n",
       "      <td>8.1</td>\n",
       "    </tr>\n",
       "    <tr>\n",
       "      <th>1</th>\n",
       "      <td>2</td>\n",
       "      <td>Prometheus</td>\n",
       "      <td>Adventure,Mystery,Sci-Fi</td>\n",
       "      <td>Ridley Scott</td>\n",
       "      <td>2012</td>\n",
       "      <td>7.0</td>\n",
       "    </tr>\n",
       "    <tr>\n",
       "      <th>2</th>\n",
       "      <td>3</td>\n",
       "      <td>Split</td>\n",
       "      <td>Horror,Thriller</td>\n",
       "      <td>M. Night Shyamalan</td>\n",
       "      <td>2016</td>\n",
       "      <td>7.3</td>\n",
       "    </tr>\n",
       "    <tr>\n",
       "      <th>3</th>\n",
       "      <td>4</td>\n",
       "      <td>Sing</td>\n",
       "      <td>Animation,Comedy,Family</td>\n",
       "      <td>Christophe Lourdelet</td>\n",
       "      <td>2016</td>\n",
       "      <td>7.2</td>\n",
       "    </tr>\n",
       "    <tr>\n",
       "      <th>4</th>\n",
       "      <td>5</td>\n",
       "      <td>Suicide Squad</td>\n",
       "      <td>Action,Adventure,Fantasy</td>\n",
       "      <td>David Ayer</td>\n",
       "      <td>2016</td>\n",
       "      <td>6.2</td>\n",
       "    </tr>\n",
       "    <tr>\n",
       "      <th>5</th>\n",
       "      <td>6</td>\n",
       "      <td>The Great Wall</td>\n",
       "      <td>Action,Adventure,Fantasy</td>\n",
       "      <td>Yimou Zhang</td>\n",
       "      <td>2016</td>\n",
       "      <td>6.1</td>\n",
       "    </tr>\n",
       "    <tr>\n",
       "      <th>6</th>\n",
       "      <td>7</td>\n",
       "      <td>La La Land</td>\n",
       "      <td>Comedy,Drama,Music</td>\n",
       "      <td>Damien Chazelle</td>\n",
       "      <td>2016</td>\n",
       "      <td>8.3</td>\n",
       "    </tr>\n",
       "    <tr>\n",
       "      <th>7</th>\n",
       "      <td>8</td>\n",
       "      <td>Mindhorn</td>\n",
       "      <td>Comedy</td>\n",
       "      <td>Sean Foley</td>\n",
       "      <td>2016</td>\n",
       "      <td>6.4</td>\n",
       "    </tr>\n",
       "    <tr>\n",
       "      <th>8</th>\n",
       "      <td>9</td>\n",
       "      <td>The Lost City of Z</td>\n",
       "      <td>Action,Adventure,Biography</td>\n",
       "      <td>James Gray</td>\n",
       "      <td>2016</td>\n",
       "      <td>7.1</td>\n",
       "    </tr>\n",
       "    <tr>\n",
       "      <th>9</th>\n",
       "      <td>10</td>\n",
       "      <td>Passengers</td>\n",
       "      <td>Adventure,Drama,Romance</td>\n",
       "      <td>Morten Tyldum</td>\n",
       "      <td>2016</td>\n",
       "      <td>7.0</td>\n",
       "    </tr>\n",
       "  </tbody>\n",
       "</table>\n",
       "</div>"
      ],
      "text/plain": [
       "   Rank                    Title                       Genre  \\\n",
       "0     1  Guardians of the Galaxy     Action,Adventure,Sci-Fi   \n",
       "1     2               Prometheus    Adventure,Mystery,Sci-Fi   \n",
       "2     3                    Split             Horror,Thriller   \n",
       "3     4                     Sing     Animation,Comedy,Family   \n",
       "4     5            Suicide Squad    Action,Adventure,Fantasy   \n",
       "5     6           The Great Wall    Action,Adventure,Fantasy   \n",
       "6     7               La La Land          Comedy,Drama,Music   \n",
       "7     8                 Mindhorn                      Comedy   \n",
       "8     9       The Lost City of Z  Action,Adventure,Biography   \n",
       "9    10               Passengers     Adventure,Drama,Romance   \n",
       "\n",
       "               Director  Year  Rating  \n",
       "0            James Gunn  2014     8.1  \n",
       "1          Ridley Scott  2012     7.0  \n",
       "2    M. Night Shyamalan  2016     7.3  \n",
       "3  Christophe Lourdelet  2016     7.2  \n",
       "4            David Ayer  2016     6.2  \n",
       "5           Yimou Zhang  2016     6.1  \n",
       "6       Damien Chazelle  2016     8.3  \n",
       "7            Sean Foley  2016     6.4  \n",
       "8            James Gray  2016     7.1  \n",
       "9         Morten Tyldum  2016     7.0  "
      ]
     },
     "execution_count": 23,
     "metadata": {},
     "output_type": "execute_result"
    }
   ],
   "source": [
    "df.head(10)"
   ]
  },
  {
   "cell_type": "code",
   "execution_count": 24,
   "id": "ccd3dc25",
   "metadata": {},
   "outputs": [
    {
     "data": {
      "text/plain": [
       "Rank        0\n",
       "Title       0\n",
       "Genre       0\n",
       "Director    0\n",
       "Year        0\n",
       "Rating      0\n",
       "dtype: int64"
      ]
     },
     "execution_count": 24,
     "metadata": {},
     "output_type": "execute_result"
    }
   ],
   "source": [
    "df.isnull().sum()"
   ]
  },
  {
   "cell_type": "code",
   "execution_count": 26,
   "id": "71491b70",
   "metadata": {},
   "outputs": [
    {
     "data": {
      "text/plain": [
       "Index(['Rank', 'Title', 'Genre', 'Director', 'Year', 'Rating'], dtype='object')"
      ]
     },
     "execution_count": 26,
     "metadata": {},
     "output_type": "execute_result"
    }
   ],
   "source": [
    "df.columns"
   ]
  },
  {
   "cell_type": "code",
   "execution_count": 27,
   "id": "906025dd",
   "metadata": {},
   "outputs": [],
   "source": [
    "import seaborn as sns"
   ]
  },
  {
   "cell_type": "code",
   "execution_count": 29,
   "id": "78fec7f7",
   "metadata": {},
   "outputs": [
    {
     "data": {
      "text/plain": [
       "array(['James Gunn', 'Ridley Scott', 'M. Night Shyamalan',\n",
       "       'Christophe Lourdelet', 'David Ayer', 'Yimou Zhang',\n",
       "       'Damien Chazelle', 'Sean Foley', 'James Gray', 'Morten Tyldum',\n",
       "       'David Yates', 'Theodore Melfi', 'Gareth Edwards', 'Ron Clements',\n",
       "       'Nacho Vigalondo', 'Chris Renaud', 'Mel Gibson', 'Paul Greengrass',\n",
       "       'Garth Davis', 'Denis Villeneuve', 'Stephen Gaghan',\n",
       "       'Kenneth Lonergan', 'Ben Young', 'Walt Dohrn', 'Roland Emmerich',\n",
       "       'Dominique Abel', 'S.S. Rajamouli', 'Phillip Guzman', 'Jon Lucas',\n",
       "       'Justin Kurzel', 'John Hamburg', 'Tom Ford', 'Bryan Singer',\n",
       "       'Tim Miller', 'Paul W.S. Anderson', 'Anthony Russo',\n",
       "       'Christopher Nolan', 'Scott Derrickson', 'Antoine Fuqua',\n",
       "       'Patrick Read Johnson', 'Greg Tiernan', 'Barry Jenkins',\n",
       "       'Shawn Burkett', 'John Lee Hancock', 'Ricardo de Montreuil',\n",
       "       'Rob Marshall', 'John Madden', 'Scott Hicks', 'Justin Lin',\n",
       "       'Sean Penn', 'J.J. Abrams', 'Anna Foerster', 'Garry Marshall',\n",
       "       'Chad Stahelski', 'Martin Scorsese', 'Fede Alvarez',\n",
       "       'Thea Sharrock', 'Lone Scherfig', 'Clint Eastwood', 'Zack Snyder',\n",
       "       'André Øvredal', 'Tate Taylor', 'Sam Taylor-Johnson',\n",
       "       'Matthew Vaughn', 'Peter Berg', 'George Miller', 'Robin Swicord',\n",
       "       'Terry George', 'Robert Zemeckis', 'J.A. Bayona', 'David Frankel',\n",
       "       'Byron Howard', 'Gore Verbinski', 'Joss Whedon',\n",
       "       'Quentin Tarantino', 'Paul Feig', 'Matt Ross', 'David Fincher',\n",
       "       'James Wan', 'Colin Trevorrow', 'Ben Affleck', 'James Cameron',\n",
       "       \"Gavin O'Connor\", 'Duncan Jones', 'Todd Phillips', 'Shane Black',\n",
       "       'Makoto Shinkai', 'Jeremy Gillespie', 'Olivier Assayas',\n",
       "       'Brian Helgeland', 'Kenneth Branagh', 'Oriol Paulo', 'Guy Ritchie',\n",
       "       'David Mackenzie', 'Taylor Hackford', 'Katie Holmes',\n",
       "       'Alex Garland', 'Greg McLean', 'Steve McQueen',\n",
       "       'Ana Lily Amirpour', 'Josh Gordon', 'Nicolas Winding Refn',\n",
       "       'Nitesh Tiwari', 'Dan Trachtenberg', 'Andrew Stanton',\n",
       "       'Tim Burton', 'Neil Burger', 'Jake Szymanski', 'Todor Chapkanov',\n",
       "       'Jon Favreau', 'Michael Bay', 'Henry Joost', 'Phyllida Lloyd',\n",
       "       'Alejandro González Iñárritu', 'Denzel Washington',\n",
       "       'Jaume Collet-Serra', 'Derek Cianfrance', 'Ethan Coen',\n",
       "       'Baz Luhrmann', 'Martin Koolhoven', 'Thor Freudenthal',\n",
       "       'Adam McKay', 'Lenny Abrahamson', 'Chan-wook Park',\n",
       "       'Kelly Fremon Craig', 'Greg Mottola', 'Ron Howard',\n",
       "       'Steven Spielberg', 'Gary Ross', 'Elizabeth Wood', 'David Lynch',\n",
       "       'Colin Strause', 'Guillermo del Toro', 'Glenn Ficarra',\n",
       "       'Edgar Wright', 'Fabio Guaglione', 'Ben Wheatley', 'Edward Zwick',\n",
       "       'Martin Campbell', 'Catherine Hardwicke', 'Jon M. Chu',\n",
       "       'Simon Curtis', 'Sam Mendes', 'Dan Gilroy', 'Travis Knight',\n",
       "       'Jackson Stewart', 'Spike Jonze', 'Chris Buck', 'Brad Bird',\n",
       "       'Matt Reeves', 'Ben Stiller', 'Peyton Reed', 'Sharon Maguire',\n",
       "       'Robert Eggers', 'Mateo Gil', 'Asghar Farhadi', 'Gaspar Noé',\n",
       "       'Ang Lee', 'Judd Apatow', 'April Mullen', 'Tom McCarthy',\n",
       "       'Luke Scott', 'Joe Johnston', 'Akan Satayev',\n",
       "       'Rawson Marshall Thurber', 'Doug Liman', 'Oliver Stone',\n",
       "       'Robert Schwentke', 'Julia Ducournau', 'Jim Jarmusch',\n",
       "       'Colm McCarthy', 'Brad Peyton', 'Harmony Korine', 'Spike Lee',\n",
       "       'Alan Taylor', 'Alex Proyas', 'Chris Wedge', 'Liam Gavin',\n",
       "       'Ilya Naishuller', 'John Lasseter', 'David Robert Mitchell',\n",
       "       'Andrea Arnold', 'Yorgos Lanthimos', 'Nimród Antal',\n",
       "       'Robert Stromberg', 'Steven Shainberg', 'Andy Goddard',\n",
       "       'Christopher McQuarrie', 'Cedric Nicolas-Troyan',\n",
       "       'Stephen Chbosky', 'Pablo Larraín', 'D.J. Caruso', 'Wes Anderson',\n",
       "       'Andrew Niccol', 'Pete Docter', 'Ash Brannon', 'Chris Columbus',\n",
       "       'Tom Hooper', 'Alfonso Cuarón', 'Mike Mills', 'Olivier Nakache',\n",
       "       'Eleanor Coppola', 'F. Gary Gray', 'Marc Webb', 'Rupert Wyatt',\n",
       "       'David F. Sandberg', 'Joseph Cedar', 'Darren Aronofsky',\n",
       "       'Justin Simien', 'Lars von Trier', 'Dave Green', 'Eli Roth',\n",
       "       'Dan Mazer', 'Tom Tykwer', 'Gavin Hood', 'Jeffrey G. Hunt',\n",
       "       'Peter Jackson', 'Phil Lord', 'John Carney', 'Eric Summer',\n",
       "       'Joseph Kosinski', 'Richard Linklater', 'Louis Leterrier',\n",
       "       'Brett Ratner', 'Lana Wachowski', 'Jared Hess', 'Jalil Lespert',\n",
       "       'Sang-ho Yeon', 'Jason Moore', 'Nicholas Stoller', 'David Leveaux',\n",
       "       'Ross Katz', 'Mike Thurmeier', 'Brad Furman',\n",
       "       'Paul Thomas Anderson', 'Drew Goddard', 'Fred Wolf',\n",
       "       'Jim Field Smith', 'James Bobin', 'Gary Michael Schultz',\n",
       "       'Christian Ditter', 'Abdellatif Kechiche', 'Jennifer Kent',\n",
       "       'Bong Joon Ho', 'J Blakeson', 'Dan Berk', 'Anne Fletcher',\n",
       "       'So Yong Kim', 'Breck Eisner', 'Paul McGuigan',\n",
       "       'Roger Spottiswoode', 'Jeremy Saulnier', 'Michael Mann',\n",
       "       'Jean-Marc Vallée', 'Mike Flanagan', 'David O. Russell',\n",
       "       'Alexi Pappas', 'Josh Boone', 'Frank Coraci', 'Rian Johnson',\n",
       "       'David Lowery', 'Sam Raimi', 'Karyn Kusama', 'Woody Allen',\n",
       "       'William Oldroyd', 'Jocelyn Moorhouse', 'Sergei Bodrov',\n",
       "       'Hugo Gélin', 'James Marsh', 'Evan Goldberg', 'Richard Curtis',\n",
       "       'Jon Watts', 'Ruben Fleischer', 'Danny Boyle', 'Bill Condon',\n",
       "       'Alex Ranarivelo', 'Timur Bekmambetov', 'J.D. Dillard', 'Wes Ball',\n",
       "       'Ariel Vromen', 'Stephen Frears', 'Eran Creevy', 'Scott Cooper',\n",
       "       'Ryan Coogler', 'Dan Kwan', 'Patrick Hughes', 'Jemaine Clement',\n",
       "       'Baltasar Kormákur', 'James Mangold', 'Peter Atencio',\n",
       "       'Pierre Morel', 'Gillies MacKinnon', 'Dennis Dugan',\n",
       "       'Lee Toland Krieger', 'Peter Billingsley', 'Terry Jones',\n",
       "       'Steven Soderbergh', 'Kyle Balda', 'Rolfe Kanefsky',\n",
       "       'Pierre Coffin', 'Michael Hoffman', 'Kathryn Bigelow',\n",
       "       'Nathan Greno', 'Francis Lawrence', 'John Francis Daley',\n",
       "       'Elizabeth Banks', 'Dan Scanlon', 'Paul Verhoeven',\n",
       "       'Dennis Gansel', 'Kevin Smith', 'Mark Williams', 'Joe Wright',\n",
       "       'David Ross', 'Burr Steers', 'Noam Murro', 'Babak Najafi',\n",
       "       'Frank Miller', 'Srdjan Spasojevic', 'James DeMonaco',\n",
       "       'Rajkumar Hirani', 'Marc Forster', 'Corey Asraf', 'Jon S. Baird',\n",
       "       'George Tillman Jr.', 'Jeff Wadlow', 'Jeff Grace', 'John Crowley',\n",
       "       'Henry Selick', 'Michael J. Gallagher', 'Christophe Gans',\n",
       "       'Pete Travis', 'Taika Waititi', 'Don Hall', 'Kimberly Peirce',\n",
       "       'Christian Alvart', 'Thomas Vinterberg', 'Etan Cohen',\n",
       "       'William Brent Bell', 'Mick Jackson', 'Michael Spierig',\n",
       "       'Rob Letterman', 'Phillip Noyce', 'Neill Blomkamp',\n",
       "       'Sofia Coppola', 'Dexter Fletcher',\n",
       "       'Florian Henckel von Donnersmarck', 'Carles Torrens',\n",
       "       'Amber Tamblyn', 'John Hillcoat', 'Paolo Genovese', 'Clay Kaytis',\n",
       "       'Adam Shankman', 'Lasse Hallström', 'Jim Mickle', 'Albert Hughes',\n",
       "       'Ericson Core', 'Jonathan Glazer', 'Barry Sonnenfeld',\n",
       "       'Todd Haynes', 'Daniel Ragussis', 'Paolo Sorrentino',\n",
       "       'Jaco Van Dormael', 'Mark Herman', 'S. Craig Zahler',\n",
       "       'Gregory Jacobs', 'Will Gluck', 'Biyi Bandele', 'Sean Ellis',\n",
       "       'Andrey Kravchuk', 'David Schwimmer', 'George Nolfi',\n",
       "       'Tony Gilroy', 'Simon Verhoeven', 'Tony Scott', 'Luc Besson',\n",
       "       'Terence Davies', 'Scott Waugh', 'Steven Brill',\n",
       "       'Alexandros Avranas', 'Ewan McGregor', 'Roman Polanski',\n",
       "       'Nic Mathieu', 'Richard LaGravenese', 'Mora Stephens',\n",
       "       'Jeff Nichols', 'Mike Birbiglia', 'Philippe Falardeau',\n",
       "       'Ken Loach', 'Josh Trank', 'Stephen Fingleton',\n",
       "       'Florian Gallenberger', 'Rob Cohen', 'Joel Edgerton', 'Gary Shore',\n",
       "       'Mike Judge', 'Sylvester Stallone', 'Rich Moore', 'Rupert Sanders',\n",
       "       'Jason Reitman', 'Jodie Foster', 'Nick Cassavetes', 'Kevin Lima',\n",
       "       'Nancy Meyers', 'Jonathan Dayton', 'Ben Younger',\n",
       "       'Craig Gillespie', 'Andrew Jarecki', 'John Stockwell',\n",
       "       'Jake Kasdan', 'Kirk Jones', 'Bennett Miller',\n",
       "       'Mark Steven Johnson', 'Angelina Jolie', 'Tarsem Singh',\n",
       "       'Mark Andrews', 'Niels Arden Oplev', 'Anne Fontaine',\n",
       "       'Michaël R. Roskam', 'Andy Fickman', 'Sean Anders', 'Tom McGrath',\n",
       "       'Jean-François Richet', 'Ken Kwapis', 'Alessandro Carloni',\n",
       "       'Zackary Adler', 'John Butler', 'Debra Granik', 'Seth Gordon',\n",
       "       'Xavier Dolan', 'Maren Ade', 'Andrew Dominik',\n",
       "       'Joseph Gordon-Levitt', 'James Watkins', 'Joey Curtis',\n",
       "       'Paco Cabezas', 'Rick Famuyiwa', 'Måns Mårlind', 'Marcus Nispel',\n",
       "       'Olivier Megaton', 'Len Wiseman', 'Will Slocombe', 'Courtney Hunt',\n",
       "       'Shawn Levy', 'Michael Goi', 'Levan Gabriadze', 'Jon Hurwitz',\n",
       "       'Gabriele Muccino', 'Damián Szifron', 'François Ozon',\n",
       "       'John Wells', 'Jonathan Holbrook', 'Julia Leigh', 'Mark Waters',\n",
       "       'Afonso Poyart', 'Akiva Schaffer', 'Hope Dickson Leach',\n",
       "       'Jonathan Liebesman', 'David Cronenberg', 'Simon Stone',\n",
       "       'David Gordon Green', 'Jon Kasdan', 'Mia Hansen-Løve',\n",
       "       'Alejandro Amenábar', 'Seth MacFarlane', 'Atom Egoyan',\n",
       "       'Daniel Espinosa', 'John Michael McDonagh', 'Frank Darabont',\n",
       "       'Mikael Håfström', 'Ari Sandel', 'Jee-woon Kim', 'Lynne Ramsay',\n",
       "       'Whit Stillman', 'Harald Zwart', 'Lee Unkrich', 'Tomas Alfredson',\n",
       "       'Gauri Shinde', 'Michael Grandage', 'Jamie Linden', 'Mike Cahill',\n",
       "       'Caleb Vetter', 'Michael Haneke', 'Marcus Dunstan',\n",
       "       'John Krasinski', 'David Dobkin', 'Michael Dudok de Wit',\n",
       "       'Jorge R. Gutiérrez', 'Bobby Farrelly', 'Doug Ellin',\n",
       "       'Bryan Bertino', 'Adam Wingard', 'Joe Carnahan', 'Simon Aboud',\n",
       "       'Bruce Beresford', 'Oz Perkins', 'Terrence Malick', 'Ben Falcone',\n",
       "       'Jonathan Jakubowicz', 'Juan José Campanella', 'Max Joseph',\n",
       "       'Chris Stokes', 'Warren Beatty', 'Gregory Hoblit',\n",
       "       'Martin McDonagh', 'McG', 'Filip Renc', 'Ed Gass-Donnelly',\n",
       "       'Jamal Hill', 'Kirsten Sheridan', 'Jake Schreier', 'Walter Hill',\n",
       "       'Dean DeBlois', 'Rob Zombie', 'Tyler Shields', 'Hisonni Johnson',\n",
       "       'Matt Brown', 'Bruce A. Evans', 'Adam Leon', 'Chris Evans',\n",
       "       'Jim Sheridan', 'Stewart Hendler', 'Genndy Tartakovsky',\n",
       "       'Claude Barras', 'Asger Leth', 'Ivan Reitman', 'Werner Herzog',\n",
       "       'Scott Frank', 'Mike Newell', 'James Ponsoldt', 'Amma Asante',\n",
       "       'Mario Van Peebles', 'François Simard', 'Andrés Muschietti',\n",
       "       'John Moore', 'John R. Leonetti', 'Saul Dibb', 'Terry Gilliam',\n",
       "       'Stephen Sommers', 'Antonio Campos', 'Dito Montiel',\n",
       "       'Phil Claydon', 'Farren Blackburn', 'Matthias Hoene',\n",
       "       'Robert Rodriguez', 'Jason Friedberg', 'David Bowers',\n",
       "       'Cary Joji Fukunaga', 'Andy Tennant', 'Larry Charles',\n",
       "       'Erik Van Looy', 'Cristian Mungiu', 'Gee Malik Linton',\n",
       "       'Aisling Walsh', 'Luca Guadagnino', 'Tim Johnson',\n",
       "       'Giuseppe Tornatore', 'Nathan Morlando', 'Robert Luketic',\n",
       "       'Mark Osborne', 'Malcolm D. Lee', 'Alexandre Aja', 'Allen Coulter',\n",
       "       'Naoko Yamada', 'Miguel Arteta', 'Steven Knight', 'James Schamus',\n",
       "       'Kyle Patrick Alvarez', 'Hannes Holm', 'James Wong', 'Dan Bradley',\n",
       "       'Greg Berlanti', 'Juan Carlos Fresnadillo', 'Jonathan Levine',\n",
       "       'Hideaki Anno', 'Wally Pfister', 'Carlos Saldanha',\n",
       "       'Drake Doremus', 'Femi Oyeniran', 'Michael Patrick King',\n",
       "       'Peter Landesman', 'Gary Winick', 'Leslye Headland',\n",
       "       'David R. Ellis', 'Michael Dowse', 'José Padilha', 'James Franco',\n",
       "       'Michael Showalter', 'Matteo Garrone', 'Gabor Csupo',\n",
       "       'James Ward Byrkit', 'Hong-jin Na', 'Simon West', 'Gregory Wilson',\n",
       "       'Chris Weitz', 'Neil Marshall', 'Christopher Landon',\n",
       "       'John Erick Dowdle', 'Lee Daniels', 'Gus Van Sant', 'Chris McCoy',\n",
       "       'Craig Brewer', 'R.J. Cutler', 'Ido Fluk', 'Christopher Smith',\n",
       "       'Anna Biller', 'Tom Six', 'Richie Smyth', 'Ryûhei Kitamura',\n",
       "       'David Slade', 'Greg Kwedar', 'Mark Mylod', 'David Twohy',\n",
       "       'Justin Kelly', 'Justin Tipping', 'Alfonso Gomez-Rejon',\n",
       "       'Alexander Payne', 'Jordan Vogt-Roberts', 'Tom Gormican',\n",
       "       'Scott Stewart', 'Patricia Rozema', 'Justin Chadwick',\n",
       "       'Steven R. Monroe', 'James Lapine', 'Jérôme Salle',\n",
       "       'Micheal Bafaro', 'John Luessenhop', 'Wes Craven', 'Mira Nair',\n",
       "       'Gilles Paquet-Brenner', 'Lisa Addario', 'Pedro Almodóvar',\n",
       "       'Patricia Riggen', 'Julie Taymor', 'Luke Greenfield', 'Boaz Yakin',\n",
       "       'Steven Quale', 'Shana Feste', 'Pascal Laugier', 'Ava DuVernay',\n",
       "       'Patrick Tatopoulos', 'Aamir Khan', 'Nima Nourizadeh', 'Billy Ray',\n",
       "       'Scot Armstrong'], dtype=object)"
      ]
     },
     "execution_count": 29,
     "metadata": {},
     "output_type": "execute_result"
    }
   ],
   "source": [
    "df['Director'].unique()"
   ]
  },
  {
   "cell_type": "code",
   "execution_count": 30,
   "id": "cb3467f0",
   "metadata": {},
   "outputs": [
    {
     "data": {
      "text/plain": [
       "array([2014, 2012, 2016, 2015, 2007, 2011, 2008, 2006, 2009, 2010, 2013],\n",
       "      dtype=int64)"
      ]
     },
     "execution_count": 30,
     "metadata": {},
     "output_type": "execute_result"
    }
   ],
   "source": [
    "df['Year'].unique()"
   ]
  },
  {
   "cell_type": "code",
   "execution_count": 31,
   "id": "f80a8b2e",
   "metadata": {},
   "outputs": [
    {
     "data": {
      "text/plain": [
       "array(['Action,Adventure,Sci-Fi', 'Adventure,Mystery,Sci-Fi',\n",
       "       'Horror,Thriller', 'Animation,Comedy,Family',\n",
       "       'Action,Adventure,Fantasy', 'Comedy,Drama,Music', 'Comedy',\n",
       "       'Action,Adventure,Biography', 'Adventure,Drama,Romance',\n",
       "       'Adventure,Family,Fantasy', 'Biography,Drama,History',\n",
       "       'Animation,Adventure,Comedy', 'Action,Comedy,Drama',\n",
       "       'Action,Thriller', 'Biography,Drama', 'Drama,Mystery,Sci-Fi',\n",
       "       'Adventure,Drama,Thriller', 'Drama', 'Crime,Drama,Horror',\n",
       "       'Action,Adventure,Drama', 'Drama,Thriller',\n",
       "       'Action,Adventure,Comedy', 'Action,Horror,Sci-Fi',\n",
       "       'Adventure,Drama,Sci-Fi', 'Action,Adventure,Western',\n",
       "       'Comedy,Drama', 'Horror', 'Adventure,Drama,Fantasy',\n",
       "       'Action,Crime,Thriller', 'Action,Crime,Drama',\n",
       "       'Adventure,Drama,History', 'Crime,Horror,Thriller',\n",
       "       'Drama,Romance', 'Comedy,Drama,Romance', 'Horror,Mystery,Thriller',\n",
       "       'Crime,Drama,Mystery', 'Drama,Romance,Thriller',\n",
       "       'Drama,History,Thriller', 'Action,Drama,Thriller', 'Drama,History',\n",
       "       'Action,Drama,Romance', 'Drama,Fantasy', 'Action,Sci-Fi',\n",
       "       'Adventure,Drama,War', 'Action,Comedy,Fantasy',\n",
       "       'Biography,Comedy,Crime', 'Crime,Drama', 'Comedy,Crime,Drama',\n",
       "       'Action,Comedy,Crime', 'Animation,Drama,Fantasy',\n",
       "       'Horror,Mystery,Sci-Fi', 'Drama,Mystery,Thriller',\n",
       "       'Crime,Drama,Thriller', 'Biography,Crime,Drama',\n",
       "       'Crime,Mystery,Thriller', 'Action,Horror,Thriller',\n",
       "       'Romance,Sci-Fi', 'Action,Fantasy,War', 'Action,Biography,Drama',\n",
       "       'Drama,Horror,Mystery', 'Adventure,Drama,Family',\n",
       "       'Adventure,Comedy,Romance', 'Action', 'Adventure,Crime,Mystery',\n",
       "       'Comedy,Family,Musical', 'Adventure,Comedy,Drama',\n",
       "       'Drama,Horror,Thriller', 'Drama,Music', 'Mystery,Thriller',\n",
       "       'Mystery,Thriller,Western', 'Comedy,Family',\n",
       "       'Biography,Comedy,Drama', 'Drama,Western', 'Drama,Mystery,Romance',\n",
       "       'Action,Drama,Mystery', 'Action,Adventure,Crime',\n",
       "       'Adventure,Sci-Fi,Thriller', 'Action,Comedy,Mystery',\n",
       "       'Thriller,War', 'Action,Adventure,Thriller',\n",
       "       'Drama,Fantasy,Romance', 'Action,Drama,History',\n",
       "       'Animation,Adventure,Family', 'Adventure,Horror',\n",
       "       'Drama,Romance,Sci-Fi', 'Action,Adventure,Family', 'Action,Comedy',\n",
       "       'Comedy,Romance', 'Horror,Mystery', 'Drama,Family,Fantasy',\n",
       "       'Sci-Fi', 'Drama,War', 'Drama,Fantasy,Horror',\n",
       "       'Crime,Drama,History', 'Horror,Sci-Fi,Thriller',\n",
       "       'Action,Drama,Sport', 'Adventure,Biography,Drama',\n",
       "       'Biography,Drama,Thriller', 'Action,Adventure,Mystery',\n",
       "       'Drama,Horror', 'Comedy,Crime', 'Drama,Fantasy,War',\n",
       "       'Action,Adventure,Romance', 'Action,Drama,War',\n",
       "       'Drama,Musical,Romance', 'Drama,Sci-Fi,Thriller',\n",
       "       'Action,Drama,Sci-Fi', 'Drama,Sci-Fi', 'Adventure,Fantasy',\n",
       "       'Thriller', 'Biography,Drama,Romance', 'Action,Adventure',\n",
       "       'Action,Fantasy', 'Action,Drama,Horror', 'Comedy,Music,Romance',\n",
       "       'Biography,Drama,Sport', 'Action,Horror', 'Comedy,Horror,Thriller',\n",
       "       'Crime,Drama,Music', 'Action,Sci-Fi,Thriller',\n",
       "       'Drama,Horror,Sci-Fi', 'Drama,Sport', 'Comedy,Horror',\n",
       "       'Comedy,Fantasy,Romance', 'Comedy,Fantasy', 'Comedy,Drama,Fantasy',\n",
       "       'Adventure,Comedy,Horror', 'Comedy,Mystery',\n",
       "       'Action,Mystery,Sci-Fi', 'Action,Crime,Fantasy',\n",
       "       'Comedy,Fantasy,Horror', 'Animation,Action,Adventure',\n",
       "       'Action,Comedy,Family', 'Comedy,Sci-Fi', 'Action,Biography,Crime',\n",
       "       'Adventure,Comedy', 'Comedy,Music', 'Comedy,Drama,Horror',\n",
       "       'Action,Horror,Romance', 'Action,Drama,Fantasy',\n",
       "       'Action,Mystery,Thriller', 'Action,Adventure,Horror',\n",
       "       'Animation,Family,Fantasy', 'Adventure,Horror,Mystery',\n",
       "       'Action,Horror,Mystery', 'Adventure,Comedy,Family',\n",
       "       'Action,Crime,Mystery', 'Comedy,Drama,Family',\n",
       "       'Action,Crime,Sport', 'Mystery,Sci-Fi,Thriller', 'Sci-Fi,Thriller',\n",
       "       'Adventure,Drama,Horror', 'Biography,History,Thriller',\n",
       "       'Adventure,Comedy,Sci-Fi', 'Fantasy,Horror',\n",
       "       'Action,Fantasy,Thriller', 'Comedy,Romance,Sport',\n",
       "       'Animation,Action,Comedy', 'Drama,Fantasy,Thriller',\n",
       "       'Action,Comedy,Romance', 'Action,Fantasy,Horror',\n",
       "       'Mystery,Romance,Sci-Fi', 'Comedy,Drama,Thriller',\n",
       "       'Comedy,Western', 'Drama,History,War', 'Fantasy,Horror,Thriller',\n",
       "       'Drama,Horror,Musical', 'Drama,Family', 'Romance,Sci-Fi,Thriller',\n",
       "       'Animation,Fantasy', 'Drama,Mystery,War', 'Action,Drama,Family',\n",
       "       'Adventure,Drama,Western', 'Drama,Music,Romance',\n",
       "       'Comedy,Romance,Western', 'Adventure,Drama', 'Drama,Thriller,War',\n",
       "       'Drama,Fantasy,Mystery', 'Comedy,Crime,Thriller',\n",
       "       'Animation,Comedy,Drama', 'Action,Comedy,Sci-Fi',\n",
       "       'Drama,Romance,War', 'Adventure,Fantasy,Mystery',\n",
       "       'Mystery,Romance,Thriller', 'Biography,Drama,Mystery',\n",
       "       'Animation,Drama,Romance', 'Comedy,Horror,Romance',\n",
       "       'Action,Thriller,War', 'Action,Comedy,Horror',\n",
       "       'Action,Crime,Sci-Fi', 'Crime,Thriller', 'Comedy,Horror,Sci-Fi',\n",
       "       'Crime,Drama,Fantasy', 'Drama,Fantasy,Music',\n",
       "       'Action,Comedy,Sport', 'Fantasy,Mystery,Thriller', 'Adventure',\n",
       "       'Adventure,Biography', 'Adventure,Biography,Crime',\n",
       "       'Comedy,Drama,Musical', 'Comedy,Family,Romance',\n",
       "       'Biography,Drama,Family', 'Drama,Fantasy,Musical',\n",
       "       'Adventure,Family', 'Adventure,Comedy,Fantasy',\n",
       "       'Drama,Family,Music', 'Comedy,Family,Fantasy'], dtype=object)"
      ]
     },
     "execution_count": 31,
     "metadata": {},
     "output_type": "execute_result"
    }
   ],
   "source": [
    "df['Genre'].unique()"
   ]
  },
  {
   "cell_type": "code",
   "execution_count": 34,
   "id": "c80fc1af",
   "metadata": {},
   "outputs": [
    {
     "name": "stderr",
     "output_type": "stream",
     "text": [
      "c:\\new folder\\lib\\site-packages\\seaborn\\_decorators.py:36: FutureWarning: Pass the following variable as a keyword arg: x. From version 0.12, the only valid positional argument will be `data`, and passing other arguments without an explicit keyword will result in an error or misinterpretation.\n",
      "  warnings.warn(\n"
     ]
    },
    {
     "data": {
      "text/plain": [
       "Text(0.5, 1.0, 'Year wise distribution')"
      ]
     },
     "execution_count": 34,
     "metadata": {},
     "output_type": "execute_result"
    },
    {
     "data": {
      "image/png": "[encoded data removed]",
      "text/plain": [
       "<Figure size 432x288 with 1 Axes>"
      ]
     },
     "metadata": {
      "needs_background": "light"
     },
     "output_type": "display_data"
    }
   ],
   "source": [
    "sns.countplot(['Year'] , palette=\"twilight_r\")\n",
    "plt.title('Year wise distribution')"
   ]
  },
  {
   "cell_type": "code",
   "execution_count": 35,
   "id": "2c9195f1",
   "metadata": {},
   "outputs": [
    {
     "data": {
      "text/html": [
       "<div>\n",
       "<style scoped>\n",
       "    .dataframe tbody tr th:only-of-type {\n",
       "        vertical-align: middle;\n",
       "    }\n",
       "\n",
       "    .dataframe tbody tr th {\n",
       "        vertical-align: top;\n",
       "    }\n",
       "\n",
       "    .dataframe thead th {\n",
       "        text-align: right;\n",
       "    }\n",
       "</style>\n",
       "<table border=\"1\" class=\"dataframe\">\n",
       "  <thead>\n",
       "    <tr style=\"text-align: right;\">\n",
       "      <th></th>\n",
       "      <th>Rank</th>\n",
       "      <th>Year</th>\n",
       "      <th>Rating</th>\n",
       "    </tr>\n",
       "  </thead>\n",
       "  <tbody>\n",
       "    <tr>\n",
       "      <th>count</th>\n",
       "      <td>1000.000000</td>\n",
       "      <td>1000.000000</td>\n",
       "      <td>1000.000000</td>\n",
       "    </tr>\n",
       "    <tr>\n",
       "      <th>mean</th>\n",
       "      <td>500.500000</td>\n",
       "      <td>2012.783000</td>\n",
       "      <td>6.723200</td>\n",
       "    </tr>\n",
       "    <tr>\n",
       "      <th>std</th>\n",
       "      <td>288.819436</td>\n",
       "      <td>3.205962</td>\n",
       "      <td>0.945429</td>\n",
       "    </tr>\n",
       "    <tr>\n",
       "      <th>min</th>\n",
       "      <td>1.000000</td>\n",
       "      <td>2006.000000</td>\n",
       "      <td>1.900000</td>\n",
       "    </tr>\n",
       "    <tr>\n",
       "      <th>25%</th>\n",
       "      <td>250.750000</td>\n",
       "      <td>2010.000000</td>\n",
       "      <td>6.200000</td>\n",
       "    </tr>\n",
       "    <tr>\n",
       "      <th>50%</th>\n",
       "      <td>500.500000</td>\n",
       "      <td>2014.000000</td>\n",
       "      <td>6.800000</td>\n",
       "    </tr>\n",
       "    <tr>\n",
       "      <th>75%</th>\n",
       "      <td>750.250000</td>\n",
       "      <td>2016.000000</td>\n",
       "      <td>7.400000</td>\n",
       "    </tr>\n",
       "    <tr>\n",
       "      <th>max</th>\n",
       "      <td>1000.000000</td>\n",
       "      <td>2016.000000</td>\n",
       "      <td>9.000000</td>\n",
       "    </tr>\n",
       "  </tbody>\n",
       "</table>\n",
       "</div>"
      ],
      "text/plain": [
       "              Rank         Year       Rating\n",
       "count  1000.000000  1000.000000  1000.000000\n",
       "mean    500.500000  2012.783000     6.723200\n",
       "std     288.819436     3.205962     0.945429\n",
       "min       1.000000  2006.000000     1.900000\n",
       "25%     250.750000  2010.000000     6.200000\n",
       "50%     500.500000  2014.000000     6.800000\n",
       "75%     750.250000  2016.000000     7.400000\n",
       "max    1000.000000  2016.000000     9.000000"
      ]
     },
     "execution_count": 35,
     "metadata": {},
     "output_type": "execute_result"
    }
   ],
   "source": [
    "df.describe()"
   ]
  },
  {
   "cell_type": "code",
   "execution_count": 36,
   "id": "691b1bf2",
   "metadata": {},
   "outputs": [
    {
     "data": {
      "text/plain": [
       "<AxesSubplot:>"
      ]
     },
     "execution_count": 36,
     "metadata": {},
     "output_type": "execute_result"
    },
    {
     "data": {
      "image/png": "[encoded data removed]",
      "text/plain": [
       "<Figure size 432x288 with 2 Axes>"
      ]
     },
     "metadata": {
      "needs_background": "light"
     },
     "output_type": "display_data"
    }
   ],
   "source": [
    "sns.heatmap(df.isnull(),yticklabels=False)"
   ]
  },
  {
   "cell_type": "code",
   "execution_count": 40,
   "id": "50b9b3ce",
   "metadata": {},
   "outputs": [
    {
     "data": {
      "text/plain": [
       "Action,Adventure,Sci-Fi       50\n",
       "Drama                         48\n",
       "Comedy,Drama,Romance          35\n",
       "Comedy                        32\n",
       "Drama,Romance                 31\n",
       "Action,Adventure,Fantasy      27\n",
       "Comedy,Drama                  27\n",
       "Animation,Adventure,Comedy    27\n",
       "Comedy,Romance                26\n",
       "Crime,Drama,Thriller          24\n",
       "Name: Genre, dtype: int64"
      ]
     },
     "execution_count": 40,
     "metadata": {},
     "output_type": "execute_result"
    }
   ],
   "source": [
    "df.Genre.value_counts().head(10)"
   ]
  },
  {
   "cell_type": "code",
   "execution_count": 64,
   "id": "db00a034",
   "metadata": {},
   "outputs": [],
   "source": [
    "genre_name = df.Genre.value_counts().index"
   ]
  },
  {
   "cell_type": "code",
   "execution_count": 47,
   "id": "e9edcd1b",
   "metadata": {},
   "outputs": [],
   "source": [
    "Genre_val = df.Genre.value_counts().values"
   ]
  },
  {
   "cell_type": "code",
   "execution_count": 66,
   "id": "759a61c5",
   "metadata": {},
   "outputs": [
    {
     "ename": "ValueError",
     "evalue": "'label' must be of length 'x'",
     "output_type": "error",
     "traceback": [
      "\u001b[1;31m---------------------------------------------------------------------------\u001b[0m",
      "\u001b[1;31mValueError\u001b[0m                                Traceback (most recent call last)",
      "\u001b[1;32m<ipython-input-66-05a2e5f73172>\u001b[0m in \u001b[0;36m<module>\u001b[1;34m\u001b[0m\n\u001b[1;32m----> 1\u001b[1;33m \u001b[0mplt\u001b[0m\u001b[1;33m.\u001b[0m\u001b[0mpie\u001b[0m\u001b[1;33m(\u001b[0m\u001b[0mGenre_val\u001b[0m\u001b[1;33m[\u001b[0m\u001b[1;33m:\u001b[0m\u001b[1;36m3\u001b[0m\u001b[1;33m]\u001b[0m\u001b[1;33m,\u001b[0m\u001b[0mlabels\u001b[0m\u001b[1;33m=\u001b[0m\u001b[0mgenre_name\u001b[0m\u001b[1;33m,\u001b[0m\u001b[0mautopct\u001b[0m\u001b[1;33m=\u001b[0m\u001b[1;34m\"%1.2f%%\"\u001b[0m\u001b[1;33m)\u001b[0m\u001b[1;33m\u001b[0m\u001b[1;33m\u001b[0m\u001b[0m\n\u001b[0m",
      "\u001b[1;32mc:\\new folder\\lib\\site-packages\\matplotlib\\pyplot.py\u001b[0m in \u001b[0;36mpie\u001b[1;34m(x, explode, labels, colors, autopct, pctdistance, shadow, labeldistance, startangle, radius, counterclock, wedgeprops, textprops, center, frame, rotatelabels, normalize, data)\u001b[0m\n\u001b[0;32m   3004\u001b[0m         \u001b[0mtextprops\u001b[0m\u001b[1;33m=\u001b[0m\u001b[1;32mNone\u001b[0m\u001b[1;33m,\u001b[0m \u001b[0mcenter\u001b[0m\u001b[1;33m=\u001b[0m\u001b[1;33m(\u001b[0m\u001b[1;36m0\u001b[0m\u001b[1;33m,\u001b[0m \u001b[1;36m0\u001b[0m\u001b[1;33m)\u001b[0m\u001b[1;33m,\u001b[0m \u001b[0mframe\u001b[0m\u001b[1;33m=\u001b[0m\u001b[1;32mFalse\u001b[0m\u001b[1;33m,\u001b[0m\u001b[1;33m\u001b[0m\u001b[1;33m\u001b[0m\u001b[0m\n\u001b[0;32m   3005\u001b[0m         rotatelabels=False, *, normalize=None, data=None):\n\u001b[1;32m-> 3006\u001b[1;33m     return gca().pie(\n\u001b[0m\u001b[0;32m   3007\u001b[0m         \u001b[0mx\u001b[0m\u001b[1;33m,\u001b[0m \u001b[0mexplode\u001b[0m\u001b[1;33m=\u001b[0m\u001b[0mexplode\u001b[0m\u001b[1;33m,\u001b[0m \u001b[0mlabels\u001b[0m\u001b[1;33m=\u001b[0m\u001b[0mlabels\u001b[0m\u001b[1;33m,\u001b[0m \u001b[0mcolors\u001b[0m\u001b[1;33m=\u001b[0m\u001b[0mcolors\u001b[0m\u001b[1;33m,\u001b[0m\u001b[1;33m\u001b[0m\u001b[1;33m\u001b[0m\u001b[0m\n\u001b[0;32m   3008\u001b[0m         \u001b[0mautopct\u001b[0m\u001b[1;33m=\u001b[0m\u001b[0mautopct\u001b[0m\u001b[1;33m,\u001b[0m \u001b[0mpctdistance\u001b[0m\u001b[1;33m=\u001b[0m\u001b[0mpctdistance\u001b[0m\u001b[1;33m,\u001b[0m \u001b[0mshadow\u001b[0m\u001b[1;33m=\u001b[0m\u001b[0mshadow\u001b[0m\u001b[1;33m,\u001b[0m\u001b[1;33m\u001b[0m\u001b[1;33m\u001b[0m\u001b[0m\n",
      "\u001b[1;32mc:\\new folder\\lib\\site-packages\\matplotlib\\__init__.py\u001b[0m in \u001b[0;36minner\u001b[1;34m(ax, data, *args, **kwargs)\u001b[0m\n\u001b[0;32m   1359\u001b[0m     \u001b[1;32mdef\u001b[0m \u001b[0minner\u001b[0m\u001b[1;33m(\u001b[0m\u001b[0max\u001b[0m\u001b[1;33m,\u001b[0m \u001b[1;33m*\u001b[0m\u001b[0margs\u001b[0m\u001b[1;33m,\u001b[0m \u001b[0mdata\u001b[0m\u001b[1;33m=\u001b[0m\u001b[1;32mNone\u001b[0m\u001b[1;33m,\u001b[0m \u001b[1;33m**\u001b[0m\u001b[0mkwargs\u001b[0m\u001b[1;33m)\u001b[0m\u001b[1;33m:\u001b[0m\u001b[1;33m\u001b[0m\u001b[1;33m\u001b[0m\u001b[0m\n\u001b[0;32m   1360\u001b[0m         \u001b[1;32mif\u001b[0m \u001b[0mdata\u001b[0m \u001b[1;32mis\u001b[0m \u001b[1;32mNone\u001b[0m\u001b[1;33m:\u001b[0m\u001b[1;33m\u001b[0m\u001b[1;33m\u001b[0m\u001b[0m\n\u001b[1;32m-> 1361\u001b[1;33m             \u001b[1;32mreturn\u001b[0m \u001b[0mfunc\u001b[0m\u001b[1;33m(\u001b[0m\u001b[0max\u001b[0m\u001b[1;33m,\u001b[0m \u001b[1;33m*\u001b[0m\u001b[0mmap\u001b[0m\u001b[1;33m(\u001b[0m\u001b[0msanitize_sequence\u001b[0m\u001b[1;33m,\u001b[0m \u001b[0margs\u001b[0m\u001b[1;33m)\u001b[0m\u001b[1;33m,\u001b[0m \u001b[1;33m**\u001b[0m\u001b[0mkwargs\u001b[0m\u001b[1;33m)\u001b[0m\u001b[1;33m\u001b[0m\u001b[1;33m\u001b[0m\u001b[0m\n\u001b[0m\u001b[0;32m   1362\u001b[0m \u001b[1;33m\u001b[0m\u001b[0m\n\u001b[0;32m   1363\u001b[0m         \u001b[0mbound\u001b[0m \u001b[1;33m=\u001b[0m \u001b[0mnew_sig\u001b[0m\u001b[1;33m.\u001b[0m\u001b[0mbind\u001b[0m\u001b[1;33m(\u001b[0m\u001b[0max\u001b[0m\u001b[1;33m,\u001b[0m \u001b[1;33m*\u001b[0m\u001b[0margs\u001b[0m\u001b[1;33m,\u001b[0m \u001b[1;33m**\u001b[0m\u001b[0mkwargs\u001b[0m\u001b[1;33m)\u001b[0m\u001b[1;33m\u001b[0m\u001b[1;33m\u001b[0m\u001b[0m\n",
      "\u001b[1;32mc:\\new folder\\lib\\site-packages\\matplotlib\\axes\\_axes.py\u001b[0m in \u001b[0;36mpie\u001b[1;34m(self, x, explode, labels, colors, autopct, pctdistance, shadow, labeldistance, startangle, radius, counterclock, wedgeprops, textprops, center, frame, rotatelabels, normalize)\u001b[0m\n\u001b[0;32m   3057\u001b[0m             \u001b[0mexplode\u001b[0m \u001b[1;33m=\u001b[0m \u001b[1;33m[\u001b[0m\u001b[1;36m0\u001b[0m\u001b[1;33m]\u001b[0m \u001b[1;33m*\u001b[0m \u001b[0mlen\u001b[0m\u001b[1;33m(\u001b[0m\u001b[0mx\u001b[0m\u001b[1;33m)\u001b[0m\u001b[1;33m\u001b[0m\u001b[1;33m\u001b[0m\u001b[0m\n\u001b[0;32m   3058\u001b[0m         \u001b[1;32mif\u001b[0m \u001b[0mlen\u001b[0m\u001b[1;33m(\u001b[0m\u001b[0mx\u001b[0m\u001b[1;33m)\u001b[0m \u001b[1;33m!=\u001b[0m \u001b[0mlen\u001b[0m\u001b[1;33m(\u001b[0m\u001b[0mlabels\u001b[0m\u001b[1;33m)\u001b[0m\u001b[1;33m:\u001b[0m\u001b[1;33m\u001b[0m\u001b[1;33m\u001b[0m\u001b[0m\n\u001b[1;32m-> 3059\u001b[1;33m             \u001b[1;32mraise\u001b[0m \u001b[0mValueError\u001b[0m\u001b[1;33m(\u001b[0m\u001b[1;34m\"'label' must be of length 'x'\"\u001b[0m\u001b[1;33m)\u001b[0m\u001b[1;33m\u001b[0m\u001b[1;33m\u001b[0m\u001b[0m\n\u001b[0m\u001b[0;32m   3060\u001b[0m         \u001b[1;32mif\u001b[0m \u001b[0mlen\u001b[0m\u001b[1;33m(\u001b[0m\u001b[0mx\u001b[0m\u001b[1;33m)\u001b[0m \u001b[1;33m!=\u001b[0m \u001b[0mlen\u001b[0m\u001b[1;33m(\u001b[0m\u001b[0mexplode\u001b[0m\u001b[1;33m)\u001b[0m\u001b[1;33m:\u001b[0m\u001b[1;33m\u001b[0m\u001b[1;33m\u001b[0m\u001b[0m\n\u001b[0;32m   3061\u001b[0m             \u001b[1;32mraise\u001b[0m \u001b[0mValueError\u001b[0m\u001b[1;33m(\u001b[0m\u001b[1;34m\"'explode' must be of length 'x'\"\u001b[0m\u001b[1;33m)\u001b[0m\u001b[1;33m\u001b[0m\u001b[1;33m\u001b[0m\u001b[0m\n",
      "\u001b[1;31mValueError\u001b[0m: 'label' must be of length 'x'"
     ]
    },
    {
     "data": {
      "image/png": "[encoded data removed]",
      "text/plain": [
       "<Figure size 432x288 with 1 Axes>"
      ]
     },
     "metadata": {
      "needs_background": "light"
     },
     "output_type": "display_data"
    }
   ],
   "source": [
    "plt.pie(Genre_val[:3],labels=genre_name,autopct=\"%1.2f%%\")"
   ]
  },
  {
   "cell_type": "code",
   "execution_count": 67,
   "id": "a8c7c45c",
   "metadata": {},
   "outputs": [
    {
     "data": {
      "text/plain": [
       "(array([ 44.,  53.,  52.,  51.,  60.,  63.,  64.,  91.,  98., 424.]),\n",
       " array([2006., 2007., 2008., 2009., 2010., 2011., 2012., 2013., 2014.,\n",
       "        2015., 2016.]),\n",
       " <BarContainer object of 10 artists>)"
      ]
     },
     "execution_count": 67,
     "metadata": {},
     "output_type": "execute_result"
    },
    {
     "data": {
      "image/png": "[encoded data removed]",
      "text/plain": [
       "<Figure size 432x288 with 1 Axes>"
      ]
     },
     "metadata": {
      "needs_background": "light"
     },
     "output_type": "display_data"
    }
   ],
   "source": [
    "plt.hist(df['Year'])"
   ]
  },
  {
   "cell_type": "code",
   "execution_count": 68,
   "id": "2bb476e6",
   "metadata": {},
   "outputs": [
    {
     "data": {
      "text/plain": [
       "(array([313., 219., 105.,  83.,  92.,  68.,  43.,  32.,  23.,  22.]),\n",
       " array([  0. ,  20.6,  41.2,  61.8,  82.4, 103. , 123.6, 144.2, 164.8,\n",
       "        185.4, 206. ]),\n",
       " <BarContainer object of 10 artists>)"
      ]
     },
     "execution_count": 68,
     "metadata": {},
     "output_type": "execute_result"
    },
    {
     "data": {
      "image/png": "[encoded data removed]",
      "text/plain": [
       "<Figure size 432x288 with 1 Axes>"
      ]
     },
     "metadata": {
      "needs_background": "light"
     },
     "output_type": "display_data"
    }
   ],
   "source": [
    "plt.hist(df['Genre'])"
   ]
  },
  {
   "cell_type": "code",
   "execution_count": 69,
   "id": "28709b36",
   "metadata": {},
   "outputs": [],
   "source": [
    "df.to_csv(r'C:\\Users\\Yash\\Desktop\\Imdb dataset.csv', index=False)\n"
   ]
  },
  {
   "cell_type": "code",
   "execution_count": 70,
   "id": "156fba2a",
   "metadata": {},
   "outputs": [
    {
     "name": "stdout",
     "output_type": "stream",
     "text": [
      "     Rank                    Title                     Genre  \\\n",
      "0       1  Guardians of the Galaxy   Action,Adventure,Sci-Fi   \n",
      "1       2               Prometheus  Adventure,Mystery,Sci-Fi   \n",
      "2       3                    Split           Horror,Thriller   \n",
      "3       4                     Sing   Animation,Comedy,Family   \n",
      "4       5            Suicide Squad  Action,Adventure,Fantasy   \n",
      "..    ...                      ...                       ...   \n",
      "995   996     Secret in Their Eyes       Crime,Drama,Mystery   \n",
      "996   997          Hostel: Part II                    Horror   \n",
      "997   998   Step Up 2: The Streets       Drama,Music,Romance   \n",
      "998   999             Search Party          Adventure,Comedy   \n",
      "999  1000               Nine Lives     Comedy,Family,Fantasy   \n",
      "\n",
      "                 Director  Year  Rating  \n",
      "0              James Gunn  2014     8.1  \n",
      "1            Ridley Scott  2012     7.0  \n",
      "2      M. Night Shyamalan  2016     7.3  \n",
      "3    Christophe Lourdelet  2016     7.2  \n",
      "4              David Ayer  2016     6.2  \n",
      "..                    ...   ...     ...  \n",
      "995             Billy Ray  2015     6.2  \n",
      "996              Eli Roth  2007     5.5  \n",
      "997            Jon M. Chu  2008     6.2  \n",
      "998        Scot Armstrong  2014     5.6  \n",
      "999      Barry Sonnenfeld  2016     5.3  \n",
      "\n",
      "[1000 rows x 6 columns]\n"
     ]
    }
   ],
   "source": [
    "print(df)"
   ]
  },
  {
   "cell_type": "code",
   "execution_count": 71,
   "id": "c6f358c8",
   "metadata": {},
   "outputs": [
    {
     "data": {
      "text/html": [
       "<div>\n",
       "<style scoped>\n",
       "    .dataframe tbody tr th:only-of-type {\n",
       "        vertical-align: middle;\n",
       "    }\n",
       "\n",
       "    .dataframe tbody tr th {\n",
       "        vertical-align: top;\n",
       "    }\n",
       "\n",
       "    .dataframe thead th {\n",
       "        text-align: right;\n",
       "    }\n",
       "</style>\n",
       "<table border=\"1\" class=\"dataframe\">\n",
       "  <thead>\n",
       "    <tr style=\"text-align: right;\">\n",
       "      <th></th>\n",
       "      <th>Rank</th>\n",
       "      <th>Title</th>\n",
       "      <th>Genre</th>\n",
       "      <th>Director</th>\n",
       "      <th>Year</th>\n",
       "      <th>Rating</th>\n",
       "    </tr>\n",
       "  </thead>\n",
       "  <tbody>\n",
       "    <tr>\n",
       "      <th>0</th>\n",
       "      <td>1</td>\n",
       "      <td>Guardians of the Galaxy</td>\n",
       "      <td>Action,Adventure,Sci-Fi</td>\n",
       "      <td>James Gunn</td>\n",
       "      <td>2014</td>\n",
       "      <td>8.1</td>\n",
       "    </tr>\n",
       "    <tr>\n",
       "      <th>1</th>\n",
       "      <td>2</td>\n",
       "      <td>Prometheus</td>\n",
       "      <td>Adventure,Mystery,Sci-Fi</td>\n",
       "      <td>Ridley Scott</td>\n",
       "      <td>2012</td>\n",
       "      <td>7.0</td>\n",
       "    </tr>\n",
       "    <tr>\n",
       "      <th>2</th>\n",
       "      <td>3</td>\n",
       "      <td>Split</td>\n",
       "      <td>Horror,Thriller</td>\n",
       "      <td>M. Night Shyamalan</td>\n",
       "      <td>2016</td>\n",
       "      <td>7.3</td>\n",
       "    </tr>\n",
       "    <tr>\n",
       "      <th>3</th>\n",
       "      <td>4</td>\n",
       "      <td>Sing</td>\n",
       "      <td>Animation,Comedy,Family</td>\n",
       "      <td>Christophe Lourdelet</td>\n",
       "      <td>2016</td>\n",
       "      <td>7.2</td>\n",
       "    </tr>\n",
       "    <tr>\n",
       "      <th>4</th>\n",
       "      <td>5</td>\n",
       "      <td>Suicide Squad</td>\n",
       "      <td>Action,Adventure,Fantasy</td>\n",
       "      <td>David Ayer</td>\n",
       "      <td>2016</td>\n",
       "      <td>6.2</td>\n",
       "    </tr>\n",
       "    <tr>\n",
       "      <th>...</th>\n",
       "      <td>...</td>\n",
       "      <td>...</td>\n",
       "      <td>...</td>\n",
       "      <td>...</td>\n",
       "      <td>...</td>\n",
       "      <td>...</td>\n",
       "    </tr>\n",
       "    <tr>\n",
       "      <th>995</th>\n",
       "      <td>996</td>\n",
       "      <td>Secret in Their Eyes</td>\n",
       "      <td>Crime,Drama,Mystery</td>\n",
       "      <td>Billy Ray</td>\n",
       "      <td>2015</td>\n",
       "      <td>6.2</td>\n",
       "    </tr>\n",
       "    <tr>\n",
       "      <th>996</th>\n",
       "      <td>997</td>\n",
       "      <td>Hostel: Part II</td>\n",
       "      <td>Horror</td>\n",
       "      <td>Eli Roth</td>\n",
       "      <td>2007</td>\n",
       "      <td>5.5</td>\n",
       "    </tr>\n",
       "    <tr>\n",
       "      <th>997</th>\n",
       "      <td>998</td>\n",
       "      <td>Step Up 2: The Streets</td>\n",
       "      <td>Drama,Music,Romance</td>\n",
       "      <td>Jon M. Chu</td>\n",
       "      <td>2008</td>\n",
       "      <td>6.2</td>\n",
       "    </tr>\n",
       "    <tr>\n",
       "      <th>998</th>\n",
       "      <td>999</td>\n",
       "      <td>Search Party</td>\n",
       "      <td>Adventure,Comedy</td>\n",
       "      <td>Scot Armstrong</td>\n",
       "      <td>2014</td>\n",
       "      <td>5.6</td>\n",
       "    </tr>\n",
       "    <tr>\n",
       "      <th>999</th>\n",
       "      <td>1000</td>\n",
       "      <td>Nine Lives</td>\n",
       "      <td>Comedy,Family,Fantasy</td>\n",
       "      <td>Barry Sonnenfeld</td>\n",
       "      <td>2016</td>\n",
       "      <td>5.3</td>\n",
       "    </tr>\n",
       "  </tbody>\n",
       "</table>\n",
       "<p>1000 rows × 6 columns</p>\n",
       "</div>"
      ],
      "text/plain": [
       "     Rank                    Title                     Genre  \\\n",
       "0       1  Guardians of the Galaxy   Action,Adventure,Sci-Fi   \n",
       "1       2               Prometheus  Adventure,Mystery,Sci-Fi   \n",
       "2       3                    Split           Horror,Thriller   \n",
       "3       4                     Sing   Animation,Comedy,Family   \n",
       "4       5            Suicide Squad  Action,Adventure,Fantasy   \n",
       "..    ...                      ...                       ...   \n",
       "995   996     Secret in Their Eyes       Crime,Drama,Mystery   \n",
       "996   997          Hostel: Part II                    Horror   \n",
       "997   998   Step Up 2: The Streets       Drama,Music,Romance   \n",
       "998   999             Search Party          Adventure,Comedy   \n",
       "999  1000               Nine Lives     Comedy,Family,Fantasy   \n",
       "\n",
       "                 Director  Year  Rating  \n",
       "0              James Gunn  2014     8.1  \n",
       "1            Ridley Scott  2012     7.0  \n",
       "2      M. Night Shyamalan  2016     7.3  \n",
       "3    Christophe Lourdelet  2016     7.2  \n",
       "4              David Ayer  2016     6.2  \n",
       "..                    ...   ...     ...  \n",
       "995             Billy Ray  2015     6.2  \n",
       "996              Eli Roth  2007     5.5  \n",
       "997            Jon M. Chu  2008     6.2  \n",
       "998        Scot Armstrong  2014     5.6  \n",
       "999      Barry Sonnenfeld  2016     5.3  \n",
       "\n",
       "[1000 rows x 6 columns]"
      ]
     },
     "execution_count": 71,
     "metadata": {},
     "output_type": "execute_result"
    }
   ],
   "source": [
    "df"
   ]
  },
  {
   "cell_type": "code",
   "execution_count": null,
   "id": "7989f1a2",
   "metadata": {},
   "outputs": [],
   "source": []
  },
  {
   "cell_type": "code",
   "execution_count": null,
   "id": "335e603b",
   "metadata": {},
   "outputs": [],
   "source": []
  }
 ],
 "metadata": {
  "kernelspec": {
   "display_name": "Python 3",
   "language": "python",
   "name": "python3"
  },
  "language_info": {
   "codemirror_mode": {
    "name": "ipython",
    "version": 3
   },
   "file_extension": ".py",
   "mimetype": "text/x-python",
   "name": "python",
   "nbconvert_exporter": "python",
   "pygments_lexer": "ipython3",
   "version": "3.8.2"
  }
 },
 "nbformat": 4,
 "nbformat_minor": 5
}
